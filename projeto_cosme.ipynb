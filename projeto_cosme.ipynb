{
 "cells": [
  {
   "cell_type": "code",
   "execution_count": 54,
   "metadata": {
    "collapsed": true
   },
   "outputs": [],
   "source": [
    "import pandas as pd\n",
    "import matplotlib.pyplot as plt\n",
    "import sklearn\n",
    "from sklearn.model_selection import train_test_split\n",
    "\n",
    "def open_sheet(sheet_name):\n",
    "    return pd.read_excel(sheet_name)\n",
    "\n",
    "def alterar_coluna_dataHora(dataframe):\n",
    "    dataframe = dataframe.astype({'Hora':'string'})\n",
    "    print(\"Alterou Type\")\n",
    "    for x in range(len(dataframe)):\n",
    "        value=dataframe.loc[x,\"Datahora\"]\n",
    "        split=value.split(\":\")\n",
    "        dataframe.loc[x,'Datahora'] = split[0]\n",
    "        dataframe.loc[x,\"Mês\"]=split[1].lstrip('0')\n",
    "        dataframe.loc[x,'Hora'] = value.split(\" \")[1]\n",
    "    return dataframe\n",
    "\n",
    "def get_1000_de_cada_file(df_files):\n",
    "    all_df=[]\n",
    "    for df_year in df_files:\n",
    "        print(\"Novo ano\")\n",
    "        total_lines = df_year.shape[0]\n",
    "        all_df_year = []\n",
    "        for j in range(1,13):\n",
    "            df_month = df_year[df_year['Mês']==str(j)]\n",
    "            perc_total_amostra = df_month.shape[0]/total_lines\n",
    "            # print(\"Mês \"+str(j)+\" Percentagem: \"+str(perc_total_amostra))\n",
    "            all_df_year.append(df_month.sample(n = int(perc_total_amostra*1000)+1))\n",
    "        all_df.append(pd.concat(all_df_year))\n",
    "    return pd.concat(all_df)\n",
    "\n",
    "def get_sample():\n",
    "    df_files = []\n",
    "    for i in range(10):\n",
    "        filename = \"201\"+str(i)+\"Acidentes.xlsx\"\n",
    "        print(\"File: \"+filename)\n",
    "        df_temp = open_sheet(filename)\n",
    "        df_files.append(alterar_coluna_dataHora(df_temp))\n",
    "    # return df_files[0]\n",
    "    get_1000_de_cada_file(df_files).to_excel(\"10000_sample.xlsx\")\n",
    "\n",
    "def teste():\n",
    "    df=open_sheet(\"2010Acidentes.xlsx\")\n",
    "    print(\"Antes for\")\n",
    "    for x in range(len(df)):\n",
    "        value=df.loc[x,\"Datahora\"]\n",
    "        split=value.split(\":\")[1]\n",
    "        df.loc[x,\"Mês\"]=split.lstrip('0')\n",
    "    total_lines = df.shape[0]\n",
    "    all_df_year = []\n",
    "    list_percen = []\n",
    "    for j in range(1,13):\n",
    "        df_month = df[df['Mês']==str(j)]\n",
    "        perc_total_amostra = df_month.shape[0]/total_lines\n",
    "        list_percen.append(perc_total_amostra)\n",
    "        all_df_year.append(df_month.sample(n = int(perc_total_amostra*1000)+1))\n",
    "    df_res = pd.concat(all_df_year)\n",
    "    occur = df_res.groupby(['Mês']).size()\n",
    "    list_percen_after = []\n",
    "    for i in occur:\n",
    "        list_percen_after.append(i/df_res.shape[0])\n",
    "    fig = plt.figure(figsize = (20,20))\n",
    "    ax1 = fig.add_subplot(3, 3, 1)\n",
    "    ax2 = fig.add_subplot(3, 3, 2)\n",
    "    ax1.plot(df['Mês'].unique().astype(int),list_percen)\n",
    "    ax1.set_title(\"Antes de reduzir\")\n",
    "    ax2.plot(df_res['Mês'].unique().astype(int),list_percen)\n",
    "    ax2.set_title(\"Depois de reduzir\")\n",
    "    plt.show()\n",
    "    return df_res\n",
    "\n",
    "# teste()\n"
   ]
  },
  {
   "cell_type": "code",
   "execution_count": 55,
   "outputs": [
    {
     "name": "stdout",
     "output_type": "stream",
     "text": [
      "File: 2010Acidentes.xlsx\n",
      "Alterou Type\n",
      "File: 2011Acidentes.xlsx\n",
      "Alterou Type\n",
      "File: 2012Acidentes.xlsx\n",
      "Alterou Type\n",
      "File: 2013Acidentes.xlsx\n",
      "Alterou Type\n",
      "File: 2014Acidentes.xlsx\n",
      "Alterou Type\n",
      "File: 2015Acidentes.xlsx\n",
      "Alterou Type\n",
      "File: 2016Acidentes.xlsx\n",
      "Alterou Type\n",
      "File: 2017Acidentes.xlsx\n",
      "Alterou Type\n",
      "File: 2018Acidentes.xlsx\n",
      "Alterou Type\n",
      "File: 2019Acidentes.xlsx\n",
      "Alterou Type\n",
      "Novo ano\n",
      "Novo ano\n",
      "Novo ano\n",
      "Novo ano\n",
      "Novo ano\n",
      "Novo ano\n",
      "Novo ano\n",
      "Novo ano\n",
      "Novo ano\n",
      "Novo ano\n"
     ]
    }
   ],
   "source": [
    "get_sample()"
   ],
   "metadata": {
    "collapsed": false
   }
  },
  {
   "cell_type": "code",
   "execution_count": 58,
   "outputs": [],
   "source": [
    "features_para_remover = [\"Id. Acidente\",\"Dia\",\"Entidades Fiscalizadoras\",\"Latitude GPS\",\n",
    "                         \"Longitude GPS\",\"Concelho\",\"Freguesia\",\"Pov. Proxima\",\"Nome arruamento\",\"Km\"]\n",
    "df = open_sheet(\"10000_sample_features_removidas.xlsx\")\n",
    "\n",
    "def remover_features():\n",
    "    global df\n",
    "    df = df.drop(df.columns[[0]], axis=1)\n",
    "    for f in features_para_remover:\n",
    "        del df[f]\n",
    "    df.to_excel(\"10000_sample_features_removidas.xlsx\")\n",
    "\n"
   ],
   "metadata": {
    "collapsed": false
   }
  },
  {
   "cell_type": "code",
   "execution_count": 59,
   "outputs": [],
   "source": [
    "remover_features()"
   ],
   "metadata": {
    "collapsed": false
   }
  },
  {
   "cell_type": "code",
   "execution_count": null,
   "outputs": [],
   "source": [],
   "metadata": {
    "collapsed": false
   }
  }
 ],
 "metadata": {
  "kernelspec": {
   "display_name": "Python 3",
   "language": "python",
   "name": "python3"
  },
  "language_info": {
   "codemirror_mode": {
    "name": "ipython",
    "version": 2
   },
   "file_extension": ".py",
   "mimetype": "text/x-python",
   "name": "python",
   "nbconvert_exporter": "python",
   "pygments_lexer": "ipython2",
   "version": "2.7.6"
  }
 },
 "nbformat": 4,
 "nbformat_minor": 0
}
